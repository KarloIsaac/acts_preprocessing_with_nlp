{
 "cells": [
  {
   "cell_type": "markdown",
   "metadata": {},
   "source": [
    "# Obtaining the corpus\n",
    "\n",
    "Up until the day 2019-02-26, we have a corpus of almost 15500 files related to the inspection acts. Most of the have the .doc or .docx extension. For our purpose, these are the files we are interested on. Every file should be named exclusively with the inspection act number. This number is built with the following regex pattern:\n",
    "\n",
    "    \"\\d{2}-[A-Z]{2}-\\d{4}-\\d{5}-[A-Z]{2}\"\n",
    "    \n",
    "While all the files contain this identifier in their name, they may also contain \"noise\" information; therefore, the first step is to normalize the name of the files. We may also have  other type of files  as .xlsx, .pdf or image files. The corpus will only have files with extension .dox or . docx, named exclusively as the inspection act number."
   ]
  },
  {
   "cell_type": "code",
   "execution_count": 1,
   "metadata": {
    "scrolled": false
   },
   "outputs": [],
   "source": [
    "import settings\n",
    "from pathlib import Path\n",
    "import shutil\n",
    "import re\n",
    "\n",
    "destination_directory = Path(settings.CORPUS_DIRECTORY_ROUTE)\n",
    "source_directory = Path(settings.INSPECTION_ACTS_ROUTE)\n",
    "pattern = re.compile(r\".*(\\d{2}-[A-Z]{2}-\\d{4}-\\d{5}-[A-Z]{2}).*(\\.(?:doc|docx))$\")\n",
    "for file in source_directory.iterdir():\n",
    "    match = pattern.match(file.name)\n",
    "    if match:        \n",
    "        shutil.copyfile(file, destination_directory.absolute()\\\n",
    "                / Path(match.group(1) + match.group(2)))      \n",
    "        "
   ]
  },
  {
   "cell_type": "markdown",
   "metadata": {},
   "source": [
    "After executing this piece of code, we have a corpus of 15 203 documents; almost 7 GB of data"
   ]
  },
  {
   "cell_type": "code",
   "execution_count": 23,
   "metadata": {},
   "outputs": [
    {
     "name": "stdout",
     "output_type": "stream",
     "text": [
      "D:\\projects\\acts_preprocessing_with_nlp\\data\\corpus\\c.txt\n"
     ]
    }
   ],
   "source": [
    "print(destination_directory / Path(\"c.txt\"))"
   ]
  }
 ],
 "metadata": {
  "kernelspec": {
   "display_name": "Python 3",
   "language": "python",
   "name": "python3"
  },
  "language_info": {
   "codemirror_mode": {
    "name": "ipython",
    "version": 3
   },
   "file_extension": ".py",
   "mimetype": "text/x-python",
   "name": "python",
   "nbconvert_exporter": "python",
   "pygments_lexer": "ipython3",
   "version": "3.6.8"
  },
  "toc": {
   "base_numbering": 1,
   "nav_menu": {},
   "number_sections": true,
   "sideBar": false,
   "skip_h1_title": false,
   "title_cell": "Table of Contents",
   "title_sidebar": "Contents",
   "toc_cell": false,
   "toc_position": {
    "height": "227px",
    "left": "0px",
    "top": "110px",
    "width": "342px"
   },
   "toc_section_display": false,
   "toc_window_display": true
  }
 },
 "nbformat": 4,
 "nbformat_minor": 2
}
